{
 "cells": [
  {
   "cell_type": "code",
   "execution_count": 1,
   "metadata": {},
   "outputs": [],
   "source": [
    "import scrapy\n",
    "from scrapy.selector import Selector\n",
    "from scrapy.http import HtmlResponse, Request, Response\n",
    "import requests\n",
    "from scrapy.http import TextResponse\n",
    "from scrapy.crawler import CrawlerProcess\n",
    "import json\n",
    "import logging\n",
    "import pandas as pd\n",
    "\n",
    "url='https://www.alibaba.com//Earphone-Headphone_pid63705?spm=a2700.8270666-44.201612262000.69.10ccb75aQ5ilB0'"
   ]
  },
  {
   "cell_type": "code",
   "execution_count": 12,
   "metadata": {},
   "outputs": [],
   "source": [
    "\n",
    "r = requests.get(url)\n",
    "response = TextResponse(r.url, body=r.text, encoding='utf-8')"
   ]
  },
  {
   "cell_type": "code",
   "execution_count": 13,
   "metadata": {},
   "outputs": [
    {
     "data": {
      "text/plain": [
       "[u'Earphone & Headphone, Earphone & Headphone Products, Earphone & Headphone Manufacturers, Earphone & Headphone Suppliers and Exporters Directory ']"
      ]
     },
     "execution_count": 13,
     "metadata": {},
     "output_type": "execute_result"
    }
   ],
   "source": [
    "# title\n",
    "response.selector.xpath('//title/text()').extract()"
   ]
  },
  {
   "cell_type": "code",
   "execution_count": 77,
   "metadata": {},
   "outputs": [
    {
     "data": {
      "text/plain": [
       "[u'AAA+ Tianma LCD for iphone 6 plus LCD Screen,for iphone 6 plus lcd oem',\n",
       " u'HRV Report Supported Heart Rate Blood Pressure Monitor',\n",
       " u'12W series 5V 2A,5V 2.5A ,12V 1A,power adapter wireless adapter for INMETRO certificated',\n",
       " u'New design microfiber mobile phone pouch',\n",
       " u'plastic case for macbook pro',\n",
       " u'USB Type C 3.1 to DP Displayport Adapter Cable with Aluminium Case For MacBook',\n",
       " u'Mobile phone accessories, USB cable for iPhone charger and data sync',\n",
       " u'For iPhone 6/ 6plus 7 7plus usb cable charger and data sync cable original',\n",
       " u'100% Original quality Telescopic data line USB cable 2 in 1 data line charging line for android/ apple molible phone',\n",
       " u'Factory wholesale keychain ring 3 in 1 multi usb cable,better quality',\n",
       " u'Mobile phone accessories, USB cable for iPhone charger and data sync',\n",
       " u'1 Year Warranty Brand New Original Lithium Battery Cell Universal Internal Replacement Battery for Laptop',\n",
       " u'Factory price 3M 10ft multicolor nylon braided fabric usb cable for iPhone 6 and for iPhone 7',\n",
       " u'Premium 1M/1.5M Black White USB Type C Data Cable , Usb Charger Cable For Samsung/Xiaomi for Huawei',\n",
       " u'Braided Nylon Aluminum Fastest 1M Data Charger USB cable for iphone 7 7plus',\n",
       " u'Factory Wholesale Promotional Gift Hemp Rope Design Fast Charging USB Data Sync Cable for Type-C',\n",
       " u'2018 custom electrical outlets luggage accessories smart world travel adapter,cube universal travel adapter for travelling',\n",
       " u'Stable quality For iphone 6 Battery Replacement for iphone 6 3.80V OEM Battery',\n",
       " u'USB 3.1 Type C to 3.0 A USB Cable',\n",
       " u'China wholesale gift portable mini micro mobile keyring usb data cable manufacturer',\n",
       " u'for iphone for android mobile phone 1M data sync 2 in 1 usb charging cable',\n",
       " u'Lanyard keychain usb charging cable for Andriod, For apple and 2 in 1 and TypeC are available',\n",
       " u'New Design Super Speed two sides USB 2.0 Data line usb cable type c for phone Charging',\n",
       " u'High Quality 1M USB Cable Charging Cords Charger Wire Line for Mobile Phone , Type -C usb charger cable for Smartphone',\n",
       " u'Universal Mobile Phone Usb Charging 3 in1 Fast Charging Data Cable for iPhone/ Android /Type - c',\n",
       " u'Braided charging 2A usb data sync charger usb cable wire for iphone6 ,Type C and Andriod phones',\n",
       " u'HOT 3ft/6ft/10ft Nylon charging cable usb ,USB Data Cable Cord For iPhone 6, 10 Colors Available',\n",
       " u'USB 3.1 Type-C 3.0 Nylon PVC high quality USB C fast charging sync data cable wholesale price type C 3.0',\n",
       " u'nylon braided pass 2A 1M/2M/3M data charging electric wire micro usb cable for iphone 5/6/7/8 ios 11 for Amazon',\n",
       " u'Top Quality Nylon Cable for iPhone 7 Charger Cable USB Cable',\n",
       " u'high quality original 1M micro usb cable for samsung galaxy S2 3 4 ,N7100 / mobile phone micro usb data cable',\n",
       " u'2017 Great Hot 2.4A Flat Zinc Alloy 8 Pin To USB Data Charger Cable For iPhone 7 6S / 6 Plus 5SE 5S 5C 5 iPod Nano ipadAir',\n",
       " u'date charging cable high quality factory price usb cable 2 in 1',\n",
       " u'Fast Charger Nylon Braided USB Cord Type C Cable for Samsung Galaxy Note 8 S8 s9',\n",
       " u'2017 new design usb data cable charging micro usb cable white/black color usb cable for android',\n",
       " u\"BK-Dbest high quality original a1582 recharge battery for apple macbook pro retina 13'' A1502\",\n",
       " u'Cell Phone Cable Magnetic USB Charger 1M USB Charging Data LED Metal Micro USB Function Cables Magnetic Phone Charger',\n",
       " u'Best quality 5FT ECB-DU4EWE micro data charging cable for samsung galaxy S6,S7 ,note4 mobilephone']"
      ]
     },
     "execution_count": 77,
     "metadata": {},
     "output_type": "execute_result"
    }
   ],
   "source": [
    "# item title: select h2's with class title and access its anchor point and get text\n",
    "response.selector.xpath('//h2[@class=\"title\"]/a/text()').extract()"
   ]
  },
  {
   "cell_type": "code",
   "execution_count": 49,
   "metadata": {},
   "outputs": [
    {
     "data": {
      "text/plain": [
       "[u'Guangzhou Jinxin Communications Firm',\n",
       " u'Guangzhou Ideal Electronic Technology Co., Ltd.',\n",
       " u'Dongguan Lead Silicone Products Co., Ltd.',\n",
       " u'Wuxi Xinya Micro Fibrous Co., Ltd.',\n",
       " u'Ningbo Twins Enclosure Co., Ltd.',\n",
       " u'Shenzhen Just Link Tech Co., Ltd.',\n",
       " u'Shenzhen Lian Xin De Cheng Tech Co., Ltd.',\n",
       " u'Guangzhou SMTech Electronic Products Co., Ltd.',\n",
       " u'Shenzhen Longhua New District Oukelai Electronic Factory',\n",
       " u'Shenzhen Grandever Weiye Electronic & Technology Co., Ltd.',\n",
       " u'Shenzhen Huaxinyin Electronic Technology Co., Ltd.',\n",
       " u'Shenzhen Kingsmile Technology Co., Ltd.',\n",
       " u'Shenzhen Foremocity Trading Co., Ltd.',\n",
       " u'Shenzhen Even Technology Co., Limited',\n",
       " u'Shenzhen Opelu Technology Co., Ltd.',\n",
       " u'Shenzhen Shujia Technology Co., Ltd.',\n",
       " u'Shenzhen Songlinda Electronics Co., Ltd.',\n",
       " u'Shenzhen Yoshion Yipin Technology Co., Ltd.',\n",
       " u'Shenzhen Yangling Technology Co., Ltd.',\n",
       " u'Changzhou Linting Trading Co., Ltd.',\n",
       " u'Shenzhen Bonazy Trading Co., Ltd.',\n",
       " u'Shenzhen CWC Technology Co., Ltd.',\n",
       " u'Guangzhou Ronc Electronic Sciences & Technology Co., Ltd.',\n",
       " u'Guangzhou IKF Electronics Co., Ltd.',\n",
       " u'Guangzhou Yiyuan Electronic Co., Ltd.',\n",
       " u'Shenzhen Haizhi Trading Company Ltd.',\n",
       " u'Shenzhen Yasen Technology Co., Ltd.',\n",
       " u'Shenzhen GOOD-SHE Technology Co., Ltd.',\n",
       " u'Shenzhen Aominuo Electronic Technology Co., Ltd.',\n",
       " u'Guangzhou Xi Xun Electronics Co., Ltd.',\n",
       " u'Shenzhen Springtech Co., Ltd.',\n",
       " u'Shenzhen Keyway Electronic Tech Co., Ltd.',\n",
       " u'Shenzhen Sayi Technology Co., Limited',\n",
       " u'Shenzhen Listing Technology Co., Ltd.',\n",
       " u'Guangzhou Xinxin Trade Co., Ltd.',\n",
       " u'Shenzhen Applebattery Technology Co., Ltd.',\n",
       " u'Shenzhen Better Technology Co., Ltd.',\n",
       " u'Shenzhen Choi Chi Technology Co., Limited']"
      ]
     },
     "execution_count": 49,
     "metadata": {},
     "output_type": "execute_result"
    }
   ],
   "source": [
    "# manufacturer title\n",
    "response.selector.xpath('//div[@class=\"stitle\"]/a/text()').extract()"
   ]
  },
  {
   "cell_type": "code",
   "execution_count": 50,
   "metadata": {},
   "outputs": [
    {
     "data": {
      "text/plain": [
       "[u' US $8-15 ',\n",
       " u' US $2.5-3.1 ',\n",
       " u' US $0.2-0.3 ',\n",
       " u' US $0.05-0.5 ',\n",
       " u' US $10-200 ',\n",
       " u' US $5.5-6.0 ',\n",
       " u' US $0.78-0.9 ',\n",
       " u' US $0.2-1.2 ',\n",
       " u' US $0.81-0.88 ',\n",
       " u' US $0.75-1 ',\n",
       " u' US $0.62-0.65 ',\n",
       " u' US $18-24 ',\n",
       " u' US $0.89-1.2 ',\n",
       " u' US $0.68-1.2 ',\n",
       " u' US $0.52-0.68 ',\n",
       " u' US $0.41-0.65 ',\n",
       " u' US $5.3-6.3 ',\n",
       " u' US $1-2 ',\n",
       " u' US $0.4-2.1 ',\n",
       " u' US $1.46-1.84 ',\n",
       " u' US $0.8-1.28 ',\n",
       " u' US $1.4-1.5 ',\n",
       " u' US $0.5-0.8 ',\n",
       " u' US $0.5-1.2 ',\n",
       " u' US $0.92-1.19 ',\n",
       " u' US $0.55-0.8 ',\n",
       " u' US $0.38-0.7 ',\n",
       " u' US $1.4-1.45 ',\n",
       " u' US $0.63-0.93 ',\n",
       " u' US $0.4-0.8 ',\n",
       " u' US $0.18-0.38 ',\n",
       " u' US $0.26-1.76 ',\n",
       " u' US $0.45-0.75 ',\n",
       " u' US $0.68-0.98 ',\n",
       " u' US $0.18-0.19 ',\n",
       " u' US $30.0-55.0 ',\n",
       " u' US $2.2-2.65 ',\n",
       " u' US $0.39-0.59 ']"
      ]
     },
     "execution_count": 50,
     "metadata": {},
     "output_type": "execute_result"
    }
   ],
   "source": [
    "# price\n",
    "response.selector.xpath('//div[@class=\"price\"]/b/text()').extract()"
   ]
  },
  {
   "cell_type": "code",
   "execution_count": 57,
   "metadata": {},
   "outputs": [
    {
     "data": {
      "text/plain": [
       "[u'2 Pieces',\n",
       " u'100 Pieces',\n",
       " u'1000 Pieces',\n",
       " u'6000 Pieces',\n",
       " u'1 Piece',\n",
       " u'100 Pieces',\n",
       " u'100 Packs',\n",
       " u'50 Pieces',\n",
       " u'100 Pieces',\n",
       " u'100 Pieces',\n",
       " u'100 Pieces',\n",
       " u'1 Piece',\n",
       " u'100 Pieces',\n",
       " u'100 Pieces',\n",
       " u'20 Pieces',\n",
       " u'10 Pieces',\n",
       " u'500 Pieces',\n",
       " u'10 Pieces',\n",
       " u'10 Pieces',\n",
       " u'100 Pieces',\n",
       " u'20 Pieces',\n",
       " u'100 Pieces',\n",
       " u'200 Pieces',\n",
       " u'100 Pieces',\n",
       " u'200 Pieces',\n",
       " u'50 Pieces',\n",
       " u'100 Pieces',\n",
       " u'500 Pieces',\n",
       " u'50 Pieces',\n",
       " u'50 Pieces',\n",
       " u'10 Pieces',\n",
       " u'10 Pieces',\n",
       " u'1 Unit',\n",
       " u'100 Pieces',\n",
       " u'100 Pieces',\n",
       " u'1 Piece',\n",
       " u'100 Pieces',\n",
       " u'100 Pieces']"
      ]
     },
     "execution_count": 57,
     "metadata": {},
     "output_type": "execute_result"
    }
   ],
   "source": [
    "# minimum order\n",
    "response.selector.xpath('//div[@class=\"min-order\"]/b/text()').extract()"
   ]
  },
  {
   "cell_type": "code",
   "execution_count": 59,
   "metadata": {},
   "outputs": [
    {
     "data": {
      "text/plain": [
       "[u'Sponsored Listing',\n",
       " u'Sponsored Listing',\n",
       " u'Sponsored Listing',\n",
       " u'Sponsored Listing',\n",
       " u'Sponsored Listing']"
      ]
     },
     "execution_count": 59,
     "metadata": {},
     "output_type": "execute_result"
    }
   ],
   "source": [
    "# tags\n",
    "response.selector.xpath('//div[@class=\"sl\"]/text()').extract()"
   ]
  },
  {
   "cell_type": "code",
   "execution_count": 78,
   "metadata": {},
   "outputs": [],
   "source": [
    "\n",
    "url=\"\"\"https://www.alibaba.com/Mobile-Phone-Accessories_pid5090302\n",
    "\"\"\""
   ]
  },
  {
   "cell_type": "code",
   "execution_count": 79,
   "metadata": {},
   "outputs": [],
   "source": [
    "\n",
    "\n",
    "r = requests.get(url)\n",
    "response = TextResponse(r.url, body=r.text, encoding='utf-8')"
   ]
  },
  {
   "cell_type": "code",
   "execution_count": 80,
   "metadata": {},
   "outputs": [
    {
     "data": {
      "text/plain": [
       "[u'Mobile Phone Accessories, Mobile Phone Antenna Products, Mobile Phone Batteries Manufacturers, Mobile Phone Cables Suppliers and Exporters Directory ']"
      ]
     },
     "execution_count": 80,
     "metadata": {},
     "output_type": "execute_result"
    }
   ],
   "source": [
    "# title\n",
    "response.selector.xpath('//title/text()').extract()"
   ]
  },
  {
   "cell_type": "code",
   "execution_count": 81,
   "metadata": {},
   "outputs": [
    {
     "data": {
      "text/plain": [
       "[u'AAA+ Tianma LCD for iphone 6 plus LCD Screen,for iphone 6 plus lcd oem',\n",
       " u'HRV Report Supported Heart Rate Blood Pressure Monitor',\n",
       " u'New design microfiber mobile phone pouch',\n",
       " u'plastic case for macbook pro',\n",
       " u'Outdoor/Patio Waterproof Swing Seat Cover',\n",
       " u'USB Type C 3.1 to DP Displayport Adapter Cable with Aluminium Case For MacBook',\n",
       " u'Mobile phone accessories, USB cable for iPhone charger and data sync',\n",
       " u'For iPhone 6/ 6plus 7 7plus usb cable charger and data sync cable original',\n",
       " u'100% Original quality Telescopic data line USB cable 2 in 1 data line charging line for android/ apple molible phone',\n",
       " u'Factory wholesale keychain ring 3 in 1 multi usb cable,better quality',\n",
       " u'Mobile phone accessories, USB cable for iPhone charger and data sync',\n",
       " u'1 Year Warranty Brand New Original Lithium Battery Cell Universal Internal Replacement Battery for Laptop',\n",
       " u'Factory price 3M 10ft multicolor nylon braided fabric usb cable for iPhone 6 and for iPhone 7',\n",
       " u'Premium 1M/1.5M Black White USB Type C Data Cable , Usb Charger Cable For Samsung/Xiaomi for Huawei',\n",
       " u'Braided Nylon Aluminum Fastest 1M Data Charger USB cable for iphone 7 7plus',\n",
       " u'Factory Wholesale Promotional Gift Hemp Rope Design Fast Charging USB Data Sync Cable for Type-C',\n",
       " u'2018 custom electrical outlets luggage accessories smart world travel adapter,cube universal travel adapter for travelling',\n",
       " u'Stable quality For iphone 6 Battery Replacement for iphone 6 3.80V OEM Battery',\n",
       " u'USB 3.1 Type C to 3.0 A USB Cable',\n",
       " u'China wholesale gift portable mini micro mobile keyring usb data cable manufacturer',\n",
       " u'for iphone for android mobile phone 1M data sync 2 in 1 usb charging cable',\n",
       " u'Lanyard keychain usb charging cable for Andriod, For apple and 2 in 1 and TypeC are available',\n",
       " u'New Design Super Speed two sides USB 2.0 Data line usb cable type c for phone Charging',\n",
       " u'High Quality 1M USB Cable Charging Cords Charger Wire Line for Mobile Phone , Type -C usb charger cable for Smartphone',\n",
       " u'Universal Mobile Phone Usb Charging 3 in1 Fast Charging Data Cable for iPhone/ Android /Type - c',\n",
       " u'Braided charging 2A usb data sync charger usb cable wire for iphone6 ,Type C and Andriod phones',\n",
       " u'HOT 3ft/6ft/10ft Nylon charging cable usb ,USB Data Cable Cord For iPhone 6, 10 Colors Available',\n",
       " u'USB 3.1 Type-C 3.0 Nylon PVC high quality USB C fast charging sync data cable wholesale price type C 3.0',\n",
       " u'nylon braided pass 2A 1M/2M/3M data charging electric wire micro usb cable for iphone 5/6/7/8 ios 11 for Amazon',\n",
       " u'Top Quality Nylon Cable for iPhone 7 Charger Cable USB Cable',\n",
       " u'high quality original 1M micro usb cable for samsung galaxy S2 3 4 ,N7100 / mobile phone micro usb data cable',\n",
       " u'2017 Great Hot 2.4A Flat Zinc Alloy 8 Pin To USB Data Charger Cable For iPhone 7 6S / 6 Plus 5SE 5S 5C 5 iPod Nano ipadAir',\n",
       " u'date charging cable high quality factory price usb cable 2 in 1',\n",
       " u'Fast Charger Nylon Braided USB Cord Type C Cable for Samsung Galaxy Note 8 S8 s9',\n",
       " u'2017 new design usb data cable charging micro usb cable white/black color usb cable for android',\n",
       " u\"BK-Dbest high quality original a1582 recharge battery for apple macbook pro retina 13'' A1502\",\n",
       " u'Cell Phone Cable Magnetic USB Charger 1M USB Charging Data LED Metal Micro USB Function Cables Magnetic Phone Charger',\n",
       " u'Best quality 5FT ECB-DU4EWE micro data charging cable for samsung galaxy S6,S7 ,note4 mobilephone']"
      ]
     },
     "execution_count": 81,
     "metadata": {},
     "output_type": "execute_result"
    }
   ],
   "source": [
    "# item title: select h2's with class title and access its anchor point and get text\n",
    "response.selector.xpath('//h2[@class=\"title\"]/a/text()').extract()"
   ]
  },
  {
   "cell_type": "code",
   "execution_count": 89,
   "metadata": {},
   "outputs": [],
   "source": [
    "def parse(response):\n",
    "        item_type=response.selector.xpath('//title/text()').extract()\n",
    "        item_title=response.selector.xpath('//h2[@class=\"title\"]/a/text()').extract()\n",
    "        seller_title=response.selector.xpath('//div[@class=\"stitle\"]/a/text()').extract()\n",
    "        price=response.selector.xpath('//div[@class=\"price\"]/b/text()').extract()\n",
    "        min_order=response.selector.xpath('//div[@class=\"min-order\"]/b/text()').extract()\n",
    "        \n",
    "        for item in zip(item_title,seller_title,price,min_order):\n",
    "        #create a dictionary to store the scraped info\n",
    "            scraped_info = {\n",
    "            'item_title' : item[0],\n",
    "            'seller_title' : item[1],\n",
    "            'price' : item[2],\n",
    "            'min_order' : item[3],\n",
    "        }\n",
    "\n",
    "        #yield or give the scraped info to scrapy\n",
    "        return scraped_info"
   ]
  },
  {
   "cell_type": "code",
   "execution_count": 91,
   "metadata": {},
   "outputs": [],
   "source": [
    "item_type=response.selector.xpath('//title/text()').extract()\n",
    "item_title=response.selector.xpath('//h2[@class=\"title\"]/a/text()').extract()\n",
    "seller_title=response.selector.xpath('//div[@class=\"stitle\"]/a/text()').extract()\n",
    "price=response.selector.xpath('//div[@class=\"price\"]/b/text()').extract()\n",
    "min_order=response.selector.xpath('//div[@class=\"min-order\"]/b/text()').extract()"
   ]
  },
  {
   "cell_type": "code",
   "execution_count": 2,
   "metadata": {},
   "outputs": [],
   "source": [
    "def scrape_alibaba(response):\n",
    "    item_type=response.selector.xpath('//title/text()').extract()\n",
    "    item_title=response.selector.xpath('//h2[@class=\"title\"]/a/text()').extract()\n",
    "    seller_title=response.selector.xpath('//div[@class=\"stitle\"]/a/text()').extract()\n",
    "    price=response.selector.xpath('//div[@class=\"price\"]/b/text()').extract()\n",
    "    min_order=response.selector.xpath('//div[@class=\"min-order\"]/b/text()').extract()\n",
    "    item_type=item_type*len(item_title)\n",
    "    \n",
    "    results=pd.DataFrame(zip(item_title,seller_title,price,min_order,item_type))\n",
    "    results.columns=['item_title','seller_title','price','min_order','item_type']\n",
    "    return results"
   ]
  },
  {
   "cell_type": "code",
   "execution_count": 3,
   "metadata": {},
   "outputs": [],
   "source": [
    "\n",
    "class JsonWriterPipeline(object):\n",
    "\n",
    "    def open_spider(self, spider):\n",
    "        self.file = open('result.jl', 'w')\n",
    "\n",
    "    def close_spider(self, spider):\n",
    "        self.file.close()\n",
    "\n",
    "    def process_item(self, item, spider):\n",
    "        line = json.dumps(dict(item)) + \"\\n\"\n",
    "        self.file.write(line)\n",
    "        return item"
   ]
  },
  {
   "cell_type": "code",
   "execution_count": 4,
   "metadata": {},
   "outputs": [],
   "source": [
    "class Ali_Spider(scrapy.Spider):\n",
    "    name = \"alibaba\"\n",
    "    start_urls = [\n",
    "        \"\"\"https://www.alibaba.com//Mobile-Phone-Accessories_pid5090302?spm=a2700.8270666-44.201612262000.3.1bd2b75aklMMfh\"\"\"#,\n",
    "        #'https://www.alibaba.com//Earphone-Headphone_pid63705?spm=a2700.8270666-44.201612262000.69.10ccb75aQ5ilB0'\n",
    "    ]\n",
    "    custom_settings = {\n",
    "        'LOG_LEVEL': logging.WARNING,\n",
    "        'ITEM_PIPELINES': {'__main__.JsonWriterPipeline': 1}, # Used for pipeline 1\n",
    "        'FEED_FORMAT':'json',                                 # Used for pipeline 2\n",
    "        'FEED_URI': 'result.json'                        # Used for pipeline 2\n",
    "    }\n",
    "    def parse(self, response):\n",
    "        #extract\n",
    "        item_type=response.selector.xpath('//title/text()').extract()\n",
    "        item_title=response.selector.xpath('//h2[@class=\"title\"]/a/text()').extract()\n",
    "        seller_title=response.selector.xpath('//div[@class=\"stitle\"]/a/text()').extract()\n",
    "        price=response.selector.xpath('//div[@class=\"price\"]/b/text()').extract()\n",
    "        min_order=response.selector.xpath('//div[@class=\"min-order\"]/b/text()').extract()\n",
    "        item_type=item_type*len(item_title)\n",
    "\n",
    "        for item in zip(item_title,seller_title,price,min_order,item_type):\n",
    "            scraped_info = {\n",
    "            'item_title': item[0],\n",
    "            'seller_title': item[1],\n",
    "            'price': item[2],\n",
    "            'min_order': item[3],\n",
    "            'item_type': item[4]\n",
    "            }\n",
    "            yield scraped_info"
   ]
  },
  {
   "cell_type": "code",
   "execution_count": 6,
   "metadata": {},
   "outputs": [
    {
     "name": "stderr",
     "output_type": "stream",
     "text": [
      "2018-04-25 18:45:02 [scrapy.utils.log] INFO: Scrapy 1.5.0 started (bot: scrapybot)\n",
      "2018-04-25 18:45:02 [scrapy.utils.log] INFO: Versions: lxml 4.1.1.0, libxml2 2.9.4, cssselect 1.0.3, parsel 1.4.0, w3lib 1.19.0, Twisted 17.5.0, Python 2.7.14 |Anaconda custom (64-bit)| (default, Dec  7 2017, 11:07:58) - [GCC 4.2.1 Compatible Clang 4.0.1 (tags/RELEASE_401/final)], pyOpenSSL 17.5.0 (OpenSSL 1.0.2o  27 Mar 2018), cryptography 2.1.4, Platform Darwin-17.4.0-x86_64-i386-64bit\n",
      "2018-04-25 18:45:02 [scrapy.crawler] INFO: Overridden settings: {'FEED_FORMAT': 'json', 'FEED_URI': 'result.json', 'LOG_LEVEL': 30, 'USER_AGENT': 'Mozilla/4.0 (compatible; MSIE 7.0; Windows NT 5.1)'}\n"
     ]
    },
    {
     "ename": "ReactorNotRestartable",
     "evalue": "",
     "output_type": "error",
     "traceback": [
      "\u001b[0;31m---------------------------------------------------------------------------\u001b[0m",
      "\u001b[0;31mReactorNotRestartable\u001b[0m                     Traceback (most recent call last)",
      "\u001b[0;32m<ipython-input-6-ceb902ad3026>\u001b[0m in \u001b[0;36m<module>\u001b[0;34m()\u001b[0m\n\u001b[1;32m      4\u001b[0m \u001b[0;34m\u001b[0m\u001b[0m\n\u001b[1;32m      5\u001b[0m \u001b[0mprocess\u001b[0m\u001b[0;34m.\u001b[0m\u001b[0mcrawl\u001b[0m\u001b[0;34m(\u001b[0m\u001b[0mAli_Spider\u001b[0m\u001b[0;34m)\u001b[0m\u001b[0;34m\u001b[0m\u001b[0m\n\u001b[0;32m----> 6\u001b[0;31m \u001b[0mprocess\u001b[0m\u001b[0;34m.\u001b[0m\u001b[0mstart\u001b[0m\u001b[0;34m(\u001b[0m\u001b[0mstop_after_crawl\u001b[0m\u001b[0;34m=\u001b[0m\u001b[0mFalse\u001b[0m\u001b[0;34m)\u001b[0m\u001b[0;34m\u001b[0m\u001b[0m\n\u001b[0m",
      "\u001b[0;32m/Users/Sean/anaconda3/lib/python2.7/site-packages/scrapy/crawler.pyc\u001b[0m in \u001b[0;36mstart\u001b[0;34m(self, stop_after_crawl)\u001b[0m\n\u001b[1;32m    289\u001b[0m         \u001b[0mtp\u001b[0m\u001b[0;34m.\u001b[0m\u001b[0madjustPoolsize\u001b[0m\u001b[0;34m(\u001b[0m\u001b[0mmaxthreads\u001b[0m\u001b[0;34m=\u001b[0m\u001b[0mself\u001b[0m\u001b[0;34m.\u001b[0m\u001b[0msettings\u001b[0m\u001b[0;34m.\u001b[0m\u001b[0mgetint\u001b[0m\u001b[0;34m(\u001b[0m\u001b[0;34m'REACTOR_THREADPOOL_MAXSIZE'\u001b[0m\u001b[0;34m)\u001b[0m\u001b[0;34m)\u001b[0m\u001b[0;34m\u001b[0m\u001b[0m\n\u001b[1;32m    290\u001b[0m         \u001b[0mreactor\u001b[0m\u001b[0;34m.\u001b[0m\u001b[0maddSystemEventTrigger\u001b[0m\u001b[0;34m(\u001b[0m\u001b[0;34m'before'\u001b[0m\u001b[0;34m,\u001b[0m \u001b[0;34m'shutdown'\u001b[0m\u001b[0;34m,\u001b[0m \u001b[0mself\u001b[0m\u001b[0;34m.\u001b[0m\u001b[0mstop\u001b[0m\u001b[0;34m)\u001b[0m\u001b[0;34m\u001b[0m\u001b[0m\n\u001b[0;32m--> 291\u001b[0;31m         \u001b[0mreactor\u001b[0m\u001b[0;34m.\u001b[0m\u001b[0mrun\u001b[0m\u001b[0;34m(\u001b[0m\u001b[0minstallSignalHandlers\u001b[0m\u001b[0;34m=\u001b[0m\u001b[0mFalse\u001b[0m\u001b[0;34m)\u001b[0m  \u001b[0;31m# blocking call\u001b[0m\u001b[0;34m\u001b[0m\u001b[0m\n\u001b[0m\u001b[1;32m    292\u001b[0m \u001b[0;34m\u001b[0m\u001b[0m\n\u001b[1;32m    293\u001b[0m     \u001b[0;32mdef\u001b[0m \u001b[0m_get_dns_resolver\u001b[0m\u001b[0;34m(\u001b[0m\u001b[0mself\u001b[0m\u001b[0;34m)\u001b[0m\u001b[0;34m:\u001b[0m\u001b[0;34m\u001b[0m\u001b[0m\n",
      "\u001b[0;32m/Users/Sean/anaconda3/lib/python2.7/site-packages/twisted/internet/base.pyc\u001b[0m in \u001b[0;36mrun\u001b[0;34m(self, installSignalHandlers)\u001b[0m\n\u001b[1;32m   1240\u001b[0m \u001b[0;34m\u001b[0m\u001b[0m\n\u001b[1;32m   1241\u001b[0m     \u001b[0;32mdef\u001b[0m \u001b[0mrun\u001b[0m\u001b[0;34m(\u001b[0m\u001b[0mself\u001b[0m\u001b[0;34m,\u001b[0m \u001b[0minstallSignalHandlers\u001b[0m\u001b[0;34m=\u001b[0m\u001b[0mTrue\u001b[0m\u001b[0;34m)\u001b[0m\u001b[0;34m:\u001b[0m\u001b[0;34m\u001b[0m\u001b[0m\n\u001b[0;32m-> 1242\u001b[0;31m         \u001b[0mself\u001b[0m\u001b[0;34m.\u001b[0m\u001b[0mstartRunning\u001b[0m\u001b[0;34m(\u001b[0m\u001b[0minstallSignalHandlers\u001b[0m\u001b[0;34m=\u001b[0m\u001b[0minstallSignalHandlers\u001b[0m\u001b[0;34m)\u001b[0m\u001b[0;34m\u001b[0m\u001b[0m\n\u001b[0m\u001b[1;32m   1243\u001b[0m         \u001b[0mself\u001b[0m\u001b[0;34m.\u001b[0m\u001b[0mmainLoop\u001b[0m\u001b[0;34m(\u001b[0m\u001b[0;34m)\u001b[0m\u001b[0;34m\u001b[0m\u001b[0m\n\u001b[1;32m   1244\u001b[0m \u001b[0;34m\u001b[0m\u001b[0m\n",
      "\u001b[0;32m/Users/Sean/anaconda3/lib/python2.7/site-packages/twisted/internet/base.pyc\u001b[0m in \u001b[0;36mstartRunning\u001b[0;34m(self, installSignalHandlers)\u001b[0m\n\u001b[1;32m   1220\u001b[0m         \"\"\"\n\u001b[1;32m   1221\u001b[0m         \u001b[0mself\u001b[0m\u001b[0;34m.\u001b[0m\u001b[0m_installSignalHandlers\u001b[0m \u001b[0;34m=\u001b[0m \u001b[0minstallSignalHandlers\u001b[0m\u001b[0;34m\u001b[0m\u001b[0m\n\u001b[0;32m-> 1222\u001b[0;31m         \u001b[0mReactorBase\u001b[0m\u001b[0;34m.\u001b[0m\u001b[0mstartRunning\u001b[0m\u001b[0;34m(\u001b[0m\u001b[0mself\u001b[0m\u001b[0;34m)\u001b[0m\u001b[0;34m\u001b[0m\u001b[0m\n\u001b[0m\u001b[1;32m   1223\u001b[0m \u001b[0;34m\u001b[0m\u001b[0m\n\u001b[1;32m   1224\u001b[0m \u001b[0;34m\u001b[0m\u001b[0m\n",
      "\u001b[0;32m/Users/Sean/anaconda3/lib/python2.7/site-packages/twisted/internet/base.pyc\u001b[0m in \u001b[0;36mstartRunning\u001b[0;34m(self)\u001b[0m\n\u001b[1;32m    728\u001b[0m             \u001b[0;32mraise\u001b[0m \u001b[0merror\u001b[0m\u001b[0;34m.\u001b[0m\u001b[0mReactorAlreadyRunning\u001b[0m\u001b[0;34m(\u001b[0m\u001b[0;34m)\u001b[0m\u001b[0;34m\u001b[0m\u001b[0m\n\u001b[1;32m    729\u001b[0m         \u001b[0;32mif\u001b[0m \u001b[0mself\u001b[0m\u001b[0;34m.\u001b[0m\u001b[0m_startedBefore\u001b[0m\u001b[0;34m:\u001b[0m\u001b[0;34m\u001b[0m\u001b[0m\n\u001b[0;32m--> 730\u001b[0;31m             \u001b[0;32mraise\u001b[0m \u001b[0merror\u001b[0m\u001b[0;34m.\u001b[0m\u001b[0mReactorNotRestartable\u001b[0m\u001b[0;34m(\u001b[0m\u001b[0;34m)\u001b[0m\u001b[0;34m\u001b[0m\u001b[0m\n\u001b[0m\u001b[1;32m    731\u001b[0m         \u001b[0mself\u001b[0m\u001b[0;34m.\u001b[0m\u001b[0m_started\u001b[0m \u001b[0;34m=\u001b[0m \u001b[0mTrue\u001b[0m\u001b[0;34m\u001b[0m\u001b[0m\n\u001b[1;32m    732\u001b[0m         \u001b[0mself\u001b[0m\u001b[0;34m.\u001b[0m\u001b[0m_stopped\u001b[0m \u001b[0;34m=\u001b[0m \u001b[0mFalse\u001b[0m\u001b[0;34m\u001b[0m\u001b[0m\n",
      "\u001b[0;31mReactorNotRestartable\u001b[0m: "
     ]
    }
   ],
   "source": [
    "process = CrawlerProcess({\n",
    "    'USER_AGENT': 'Mozilla/4.0 (compatible; MSIE 7.0; Windows NT 5.1)'\n",
    "})\n",
    "\n",
    "process.crawl(Ali_Spider)\n",
    "process.start(stop_after_crawl=False)"
   ]
  },
  {
   "cell_type": "code",
   "execution_count": 7,
   "metadata": {},
   "outputs": [
    {
     "name": "stdout",
     "output_type": "stream",
     "text": [
      "-rw-r--r--  1 SG  staff  28942 Apr 25 18:38 result.jl\r\n",
      "-rw-r--r--  1 SG  staff  43555 Apr 25 18:38 result.json\r\n"
     ]
    }
   ],
   "source": [
    "ll result.*"
   ]
  },
  {
   "cell_type": "code",
   "execution_count": 8,
   "metadata": {},
   "outputs": [
    {
     "name": "stdout",
     "output_type": "stream",
     "text": [
      "{\"item_title\": \"Cell Phone Cable Magnetic USB Charger 1M USB Charging Data LED Metal Micro USB Function Cables Magnetic Phone Charger\", \"min_order\": \"100 Pieces\", \"seller_title\": \"Shenzhen Better Technology Co., Ltd.\", \"price\": \" US $2.2-2.65 \", \"item_type\": \"Mobile Phone Accessories, Mobile Phone Batteries Products, Mobile Phone Cables Manufacturers, Mobile Phone Chargers Suppliers and Exporters Directory \"}\r\n",
      "{\"item_title\": \"Best quality 5FT ECB-DU4EWE micro data charging cable for samsung galaxy S6,S7 ,note4 mobilephone\", \"min_order\": \"100 Pieces\", \"seller_title\": \"Shenzhen Choi Chi Technology Co., Limited\", \"price\": \" US $0.39-0.59 \", \"item_type\": \"Mobile Phone Accessories, Mobile Phone Batteries Products, Mobile Phone Cables Manufacturers, Mobile Phone Chargers Suppliers and Exporters Directory \"}\r\n"
     ]
    }
   ],
   "source": [
    "!tail -n 2 result.jl"
   ]
  },
  {
   "cell_type": "code",
   "execution_count": 9,
   "metadata": {},
   "outputs": [
    {
     "ename": "ValueError",
     "evalue": "Trailing data",
     "output_type": "error",
     "traceback": [
      "\u001b[0;31m---------------------------------------------------------------------------\u001b[0m",
      "\u001b[0;31mValueError\u001b[0m                                Traceback (most recent call last)",
      "\u001b[0;32m<ipython-input-9-367d030aa9ba>\u001b[0m in \u001b[0;36m<module>\u001b[0;34m()\u001b[0m\n\u001b[1;32m      1\u001b[0m \u001b[0;32mimport\u001b[0m \u001b[0mpandas\u001b[0m \u001b[0;32mas\u001b[0m \u001b[0mpd\u001b[0m\u001b[0;34m\u001b[0m\u001b[0m\n\u001b[0;32m----> 2\u001b[0;31m \u001b[0mdfjson\u001b[0m \u001b[0;34m=\u001b[0m \u001b[0mpd\u001b[0m\u001b[0;34m.\u001b[0m\u001b[0mread_json\u001b[0m\u001b[0;34m(\u001b[0m\u001b[0;34m'result.json'\u001b[0m\u001b[0;34m)\u001b[0m\u001b[0;34m\u001b[0m\u001b[0m\n\u001b[0m\u001b[1;32m      3\u001b[0m \u001b[0mdfjson\u001b[0m\u001b[0;34m\u001b[0m\u001b[0m\n",
      "\u001b[0;32m/Users/Sean/anaconda3/lib/python2.7/site-packages/pandas/io/json/json.pyc\u001b[0m in \u001b[0;36mread_json\u001b[0;34m(path_or_buf, orient, typ, dtype, convert_axes, convert_dates, keep_default_dates, numpy, precise_float, date_unit, encoding, lines, chunksize, compression)\u001b[0m\n\u001b[1;32m    364\u001b[0m         \u001b[0;32mreturn\u001b[0m \u001b[0mjson_reader\u001b[0m\u001b[0;34m\u001b[0m\u001b[0m\n\u001b[1;32m    365\u001b[0m \u001b[0;34m\u001b[0m\u001b[0m\n\u001b[0;32m--> 366\u001b[0;31m     \u001b[0;32mreturn\u001b[0m \u001b[0mjson_reader\u001b[0m\u001b[0;34m.\u001b[0m\u001b[0mread\u001b[0m\u001b[0;34m(\u001b[0m\u001b[0;34m)\u001b[0m\u001b[0;34m\u001b[0m\u001b[0m\n\u001b[0m\u001b[1;32m    367\u001b[0m \u001b[0;34m\u001b[0m\u001b[0m\n\u001b[1;32m    368\u001b[0m \u001b[0;34m\u001b[0m\u001b[0m\n",
      "\u001b[0;32m/Users/Sean/anaconda3/lib/python2.7/site-packages/pandas/io/json/json.pyc\u001b[0m in \u001b[0;36mread\u001b[0;34m(self)\u001b[0m\n\u001b[1;32m    465\u001b[0m             )\n\u001b[1;32m    466\u001b[0m         \u001b[0;32melse\u001b[0m\u001b[0;34m:\u001b[0m\u001b[0;34m\u001b[0m\u001b[0m\n\u001b[0;32m--> 467\u001b[0;31m             \u001b[0mobj\u001b[0m \u001b[0;34m=\u001b[0m \u001b[0mself\u001b[0m\u001b[0;34m.\u001b[0m\u001b[0m_get_object_parser\u001b[0m\u001b[0;34m(\u001b[0m\u001b[0mself\u001b[0m\u001b[0;34m.\u001b[0m\u001b[0mdata\u001b[0m\u001b[0;34m)\u001b[0m\u001b[0;34m\u001b[0m\u001b[0m\n\u001b[0m\u001b[1;32m    468\u001b[0m         \u001b[0mself\u001b[0m\u001b[0;34m.\u001b[0m\u001b[0mclose\u001b[0m\u001b[0;34m(\u001b[0m\u001b[0;34m)\u001b[0m\u001b[0;34m\u001b[0m\u001b[0m\n\u001b[1;32m    469\u001b[0m         \u001b[0;32mreturn\u001b[0m \u001b[0mobj\u001b[0m\u001b[0;34m\u001b[0m\u001b[0m\n",
      "\u001b[0;32m/Users/Sean/anaconda3/lib/python2.7/site-packages/pandas/io/json/json.pyc\u001b[0m in \u001b[0;36m_get_object_parser\u001b[0;34m(self, json)\u001b[0m\n\u001b[1;32m    482\u001b[0m         \u001b[0mobj\u001b[0m \u001b[0;34m=\u001b[0m \u001b[0mNone\u001b[0m\u001b[0;34m\u001b[0m\u001b[0m\n\u001b[1;32m    483\u001b[0m         \u001b[0;32mif\u001b[0m \u001b[0mtyp\u001b[0m \u001b[0;34m==\u001b[0m \u001b[0;34m'frame'\u001b[0m\u001b[0;34m:\u001b[0m\u001b[0;34m\u001b[0m\u001b[0m\n\u001b[0;32m--> 484\u001b[0;31m             \u001b[0mobj\u001b[0m \u001b[0;34m=\u001b[0m \u001b[0mFrameParser\u001b[0m\u001b[0;34m(\u001b[0m\u001b[0mjson\u001b[0m\u001b[0;34m,\u001b[0m \u001b[0;34m**\u001b[0m\u001b[0mkwargs\u001b[0m\u001b[0;34m)\u001b[0m\u001b[0;34m.\u001b[0m\u001b[0mparse\u001b[0m\u001b[0;34m(\u001b[0m\u001b[0;34m)\u001b[0m\u001b[0;34m\u001b[0m\u001b[0m\n\u001b[0m\u001b[1;32m    485\u001b[0m \u001b[0;34m\u001b[0m\u001b[0m\n\u001b[1;32m    486\u001b[0m         \u001b[0;32mif\u001b[0m \u001b[0mtyp\u001b[0m \u001b[0;34m==\u001b[0m \u001b[0;34m'series'\u001b[0m \u001b[0;32mor\u001b[0m \u001b[0mobj\u001b[0m \u001b[0;32mis\u001b[0m \u001b[0mNone\u001b[0m\u001b[0;34m:\u001b[0m\u001b[0;34m\u001b[0m\u001b[0m\n",
      "\u001b[0;32m/Users/Sean/anaconda3/lib/python2.7/site-packages/pandas/io/json/json.pyc\u001b[0m in \u001b[0;36mparse\u001b[0;34m(self)\u001b[0m\n\u001b[1;32m    574\u001b[0m \u001b[0;34m\u001b[0m\u001b[0m\n\u001b[1;32m    575\u001b[0m         \u001b[0;32melse\u001b[0m\u001b[0;34m:\u001b[0m\u001b[0;34m\u001b[0m\u001b[0m\n\u001b[0;32m--> 576\u001b[0;31m             \u001b[0mself\u001b[0m\u001b[0;34m.\u001b[0m\u001b[0m_parse_no_numpy\u001b[0m\u001b[0;34m(\u001b[0m\u001b[0;34m)\u001b[0m\u001b[0;34m\u001b[0m\u001b[0m\n\u001b[0m\u001b[1;32m    577\u001b[0m \u001b[0;34m\u001b[0m\u001b[0m\n\u001b[1;32m    578\u001b[0m         \u001b[0;32mif\u001b[0m \u001b[0mself\u001b[0m\u001b[0;34m.\u001b[0m\u001b[0mobj\u001b[0m \u001b[0;32mis\u001b[0m \u001b[0mNone\u001b[0m\u001b[0;34m:\u001b[0m\u001b[0;34m\u001b[0m\u001b[0m\n",
      "\u001b[0;32m/Users/Sean/anaconda3/lib/python2.7/site-packages/pandas/io/json/json.pyc\u001b[0m in \u001b[0;36m_parse_no_numpy\u001b[0;34m(self)\u001b[0m\n\u001b[1;32m    791\u001b[0m         \u001b[0;32mif\u001b[0m \u001b[0morient\u001b[0m \u001b[0;34m==\u001b[0m \u001b[0;34m\"columns\"\u001b[0m\u001b[0;34m:\u001b[0m\u001b[0;34m\u001b[0m\u001b[0m\n\u001b[1;32m    792\u001b[0m             self.obj = DataFrame(\n\u001b[0;32m--> 793\u001b[0;31m                 loads(json, precise_float=self.precise_float), dtype=None)\n\u001b[0m\u001b[1;32m    794\u001b[0m         \u001b[0;32melif\u001b[0m \u001b[0morient\u001b[0m \u001b[0;34m==\u001b[0m \u001b[0;34m\"split\"\u001b[0m\u001b[0;34m:\u001b[0m\u001b[0;34m\u001b[0m\u001b[0m\n\u001b[1;32m    795\u001b[0m             decoded = dict((str(k), v)\n",
      "\u001b[0;31mValueError\u001b[0m: Trailing data"
     ]
    }
   ],
   "source": [
    "import pandas as pd\n",
    "dfjson = pd.read_json('result.json')\n",
    "dfjson"
   ]
  },
  {
   "cell_type": "code",
   "execution_count": 7,
   "metadata": {},
   "outputs": [
    {
     "data": {
      "text/plain": [
       "<DeferredList at 0x118323b00 current result: [(True, None)]>"
      ]
     },
     "execution_count": 7,
     "metadata": {},
     "output_type": "execute_result"
    }
   ],
   "source": [
    "#stop connection\n",
    "process.stop()"
   ]
  },
  {
   "cell_type": "code",
   "execution_count": null,
   "metadata": {},
   "outputs": [],
   "source": []
  }
 ],
 "metadata": {
  "kernelspec": {
   "display_name": "Python 2",
   "language": "python",
   "name": "python2"
  },
  "language_info": {
   "codemirror_mode": {
    "name": "ipython",
    "version": 2
   },
   "file_extension": ".py",
   "mimetype": "text/x-python",
   "name": "python",
   "nbconvert_exporter": "python",
   "pygments_lexer": "ipython2",
   "version": "2.7.15"
  }
 },
 "nbformat": 4,
 "nbformat_minor": 2
}
